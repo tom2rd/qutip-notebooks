{
  "nbformat": 4,
  "nbformat_minor": 0,
  "metadata": {
    "colab": {
      "name": "Beginning_Python.ipynb",
      "provenance": []
    },
    "kernelspec": {
      "name": "python3",
      "display_name": "Python 3"
    }
  },
  "cells": [
    {
      "cell_type": "code",
      "metadata": {
        "id": "qwB3l-s0QqRn",
        "colab_type": "code",
        "colab": {
          "base_uri": "https://localhost:8080/",
          "height": 34
        },
        "outputId": "50a5c804-b6fe-4f95-cd52-6dc8c61a92e7"
      },
      "source": [
        "!%pylab inline"
      ],
      "execution_count": 2,
      "outputs": [
        {
          "output_type": "stream",
          "text": [
            "/bin/bash: line 0: fg: no job control\n"
          ],
          "name": "stdout"
        }
      ]
    },
    {
      "cell_type": "markdown",
      "metadata": {
        "id": "Y6D0z5dFQqRx",
        "colab_type": "text"
      },
      "source": [
        "#Brief Python Language Tutorial"
      ]
    },
    {
      "cell_type": "markdown",
      "metadata": {
        "id": "_ArUdwg9QqRy",
        "colab_type": "text"
      },
      "source": [
        "P.D. Nation and J.R. Johansson\n",
        "\n",
        "For more information about QuTiP see [http://qutip.org](http://qutip.org)"
      ]
    },
    {
      "cell_type": "markdown",
      "metadata": {
        "id": "OcFMIRxSQqRz",
        "colab_type": "text"
      },
      "source": [
        "##Using Python For Simple Calculations"
      ]
    },
    {
      "cell_type": "markdown",
      "metadata": {
        "id": "c_UUby5pQqR0",
        "colab_type": "text"
      },
      "source": [
        "As a first step, lets try to use the interactive Python command line tool **iPython** as a basic calculator.  Addition, subtraction, and multiplication, all work in the same way as you would write the equations down on paper"
      ]
    },
    {
      "cell_type": "code",
      "metadata": {
        "id": "19Fgf8BKQqR0",
        "colab_type": "code",
        "colab": {
          "base_uri": "https://localhost:8080/",
          "height": 34
        },
        "outputId": "deaa73d4-4660-4884-f24d-864f57dcc392"
      },
      "source": [
        "10+5"
      ],
      "execution_count": 3,
      "outputs": [
        {
          "output_type": "execute_result",
          "data": {
            "text/plain": [
              "15"
            ]
          },
          "metadata": {
            "tags": []
          },
          "execution_count": 3
        }
      ]
    },
    {
      "cell_type": "code",
      "metadata": {
        "id": "CeGNoYIJQqR3",
        "colab_type": "code",
        "colab": {
          "base_uri": "https://localhost:8080/",
          "height": 34
        },
        "outputId": "1b93396f-7195-4937-dc38-2c0b7d6570d5"
      },
      "source": [
        "10-157"
      ],
      "execution_count": 4,
      "outputs": [
        {
          "output_type": "execute_result",
          "data": {
            "text/plain": [
              "-147"
            ]
          },
          "metadata": {
            "tags": []
          },
          "execution_count": 4
        }
      ]
    },
    {
      "cell_type": "code",
      "metadata": {
        "id": "Cd5kN_B_QqR5",
        "colab_type": "code",
        "colab": {
          "base_uri": "https://localhost:8080/",
          "height": 34
        },
        "outputId": "07b2e66a-1769-4ea6-88e4-290f7ddb73ea"
      },
      "source": [
        "4/3"
      ],
      "execution_count": 5,
      "outputs": [
        {
          "output_type": "execute_result",
          "data": {
            "text/plain": [
              "1.3333333333333333"
            ]
          },
          "metadata": {
            "tags": []
          },
          "execution_count": 5
        }
      ]
    },
    {
      "cell_type": "code",
      "metadata": {
        "id": "rryrpF-XQqR7",
        "colab_type": "code",
        "colab": {
          "base_uri": "https://localhost:8080/",
          "height": 34
        },
        "outputId": "2f1e1a20-d46d-4b3a-d7f0-68a5f5472cbe"
      },
      "source": [
        "(50-4)*10/5"
      ],
      "execution_count": 6,
      "outputs": [
        {
          "output_type": "execute_result",
          "data": {
            "text/plain": [
              "92.0"
            ]
          },
          "metadata": {
            "tags": []
          },
          "execution_count": 6
        }
      ]
    },
    {
      "cell_type": "markdown",
      "metadata": {
        "id": "bCU2a18cQqR8",
        "colab_type": "text"
      },
      "source": [
        "However, things like raising a number to a power, $4^{4}$, are written differently."
      ]
    },
    {
      "cell_type": "code",
      "metadata": {
        "id": "vx8nmUtuQqR9",
        "colab_type": "code",
        "colab": {
          "base_uri": "https://localhost:8080/",
          "height": 34
        },
        "outputId": "90139843-72d4-4493-c102-f773d8baba14"
      },
      "source": [
        "4**4"
      ],
      "execution_count": 7,
      "outputs": [
        {
          "output_type": "execute_result",
          "data": {
            "text/plain": [
              "256"
            ]
          },
          "metadata": {
            "tags": []
          },
          "execution_count": 7
        }
      ]
    },
    {
      "cell_type": "markdown",
      "metadata": {
        "id": "DbPfdJK3QqR_",
        "colab_type": "text"
      },
      "source": [
        "We could also express this in the mathematically equivalent way as $4^{4.0}$.  However, inside of the computer, the result is not treated the same as the above answer."
      ]
    },
    {
      "cell_type": "code",
      "metadata": {
        "id": "hhklTCfUQqSA",
        "colab_type": "code",
        "colab": {
          "base_uri": "https://localhost:8080/",
          "height": 34
        },
        "outputId": "9de4c82c-aa99-46ff-a1a2-c5593cda04df"
      },
      "source": [
        "4**4.0"
      ],
      "execution_count": 8,
      "outputs": [
        {
          "output_type": "execute_result",
          "data": {
            "text/plain": [
              "256.0"
            ]
          },
          "metadata": {
            "tags": []
          },
          "execution_count": 8
        }
      ]
    },
    {
      "cell_type": "markdown",
      "metadata": {
        "id": "Rs2MQXbWQqSC",
        "colab_type": "text"
      },
      "source": [
        "##Integers vs. Floating Point Numbers"
      ]
    },
    {
      "cell_type": "markdown",
      "metadata": {
        "id": "0WMhJ_WcQqSC",
        "colab_type": "text"
      },
      "source": [
        "All information stored in a computer must be represented in a binary format consisting of zeros and ones (e.g. $461\\rightarrow 111001101$).  Each zero or one is called a **bit**, and given $N$ bits, one can store all of the integers in the range $[0,2^{N-1}]$, where the $-1$ is due to the fact that the first bit is reserved for defining if a number is positive or negative   \n",
        "\n",
        "However, given a fixed number of bits, it is impossible to store an arbitrary number exactly.  Therefore, if one is given a random number, unless the number is exactly divisible by a factor of two, the conversion between the random number and the binary bit representation ultimately leads to a loss of precision, and what is known as **roundoff error**.\n"
      ]
    },
    {
      "cell_type": "markdown",
      "metadata": {
        "id": "YxeJpcrgQqSD",
        "colab_type": "text"
      },
      "source": [
        "When dealing with numbers inside a computer there are two distinct types of numbers to consider:\n",
        "\n",
        "\n",
        "- **Integers** - (1,2,4,-586,..) Are what are called **fixed-point numbers**, where the term fixed-point means that there is a fixed number of decimal places in the number (zero for integers).  These numbers can be stored exactly in a computer.\n",
        "\n",
        "\n",
        "- **Doubles/Floats** - (3.141,0.21,-0.1,..) These are **floating-point numbers** that are the binary equivalent to scientific notation $c=2.99792458\\times 10^{8}$.  Doubles (also called double-precision numbers) are floating point numbers that are written using 64-bits and, in general, are only accurate to the 15th or 16th decimal place.  Floats (or single-precision numbers) use 32-bits, and are good to 6-7 decimal places.  **Serious scientific calculations always require a combination of integers and double (64-bit) numbers**."
      ]
    },
    {
      "cell_type": "code",
      "metadata": {
        "id": "SZ4g1j2EQqSD",
        "colab_type": "code",
        "colab": {
          "base_uri": "https://localhost:8080/",
          "height": 34
        },
        "outputId": "473dc3c0-503f-4c18-89d7-7bb051f4ca72"
      },
      "source": [
        "7+0.000000000000001"
      ],
      "execution_count": 9,
      "outputs": [
        {
          "output_type": "execute_result",
          "data": {
            "text/plain": [
              "7.000000000000001"
            ]
          },
          "metadata": {
            "tags": []
          },
          "execution_count": 9
        }
      ]
    },
    {
      "cell_type": "code",
      "metadata": {
        "id": "HeeqKhnQQqSF",
        "colab_type": "code",
        "colab": {},
        "outputId": "565514bd-61d4-4fef-d486-4085c03ce6ff"
      },
      "source": [
        "7+0.0000000000000001"
      ],
      "execution_count": 0,
      "outputs": [
        {
          "output_type": "execute_result",
          "data": {},
          "metadata": {
            "tags": []
          },
          "execution_count": 10
        }
      ]
    },
    {
      "cell_type": "code",
      "metadata": {
        "id": "yO8xTGhpQqSH",
        "colab_type": "code",
        "colab": {},
        "outputId": "4f70d364-c4e7-4b01-f001-3565290e53f8"
      },
      "source": [
        "0.1+0.2"
      ],
      "execution_count": 0,
      "outputs": [
        {
          "output_type": "execute_result",
          "data": {},
          "metadata": {
            "tags": []
          },
          "execution_count": 11
        }
      ]
    },
    {
      "cell_type": "markdown",
      "metadata": {
        "id": "0CmJOqQQQqSK",
        "colab_type": "text"
      },
      "source": [
        "This last example clearly highlights the fact that the computer does not store decimal (floating-point) numbers exactly.  The loss of precision in floating-point numbers can be characterized by the **machine precision**, $\\epsilon_{\\rm m}$, that is defined to be the smallest positive number such that \n",
        "\n",
        "$$1_{\\rm c}+\\epsilon_{\\rm m}\\neq 1_{\\rm c}$$\n",
        "\n",
        "where the subscript on $1_{\\rm c}$ is meant to remind you that this is a computer number.  Therefore, for any arbitrary number $N$ is related to its floating-point equivalent $N_{\\rm c}$ by\n",
        "\n",
        "$$N_{\\rm c}=N\\pm \\epsilon, \\ \\ \\forall~|\\epsilon|< \\epsilon_{\\rm m}.$$\n",
        "\n",
        "**Take Home Message** - All double-precision decimal numbers that are not factors of two will have error in the 15th decimal place.  This can lead to errors in your numerical solutions if you are not careful."
      ]
    },
    {
      "cell_type": "markdown",
      "metadata": {
        "id": "I5WRM1hcQqSL",
        "colab_type": "text"
      },
      "source": [
        "##Making Python Smarter Using NumPy"
      ]
    },
    {
      "cell_type": "markdown",
      "metadata": {
        "id": "MU38wN9xQqSL",
        "colab_type": "text"
      },
      "source": [
        "Python itself as limited support for mathematics outside of simple arithmetic.  Therefore, we will use the functions in the NumPy module to do more impressive, and faster, calculations.  To load many, but not all, of the functions in NumPy we run the following command"
      ]
    },
    {
      "cell_type": "code",
      "metadata": {
        "id": "HS2n0xB3QqSM",
        "colab_type": "code",
        "colab": {}
      },
      "source": [
        "from numpy import *"
      ],
      "execution_count": 0,
      "outputs": []
    },
    {
      "cell_type": "markdown",
      "metadata": {
        "id": "on7ZcfTGQqSO",
        "colab_type": "text"
      },
      "source": [
        "Here we are asking Python to get all of the basic functions (this is what * means) from the NumPy module.  We can now do more impressive calculations:"
      ]
    },
    {
      "cell_type": "code",
      "metadata": {
        "id": "Yow9T90qQqSO",
        "colab_type": "code",
        "colab": {},
        "outputId": "a6d4ca47-2277-4439-b3ce-439656c7350d"
      },
      "source": [
        "exp(2.34)"
      ],
      "execution_count": 0,
      "outputs": [
        {
          "output_type": "execute_result",
          "data": {},
          "metadata": {
            "tags": []
          },
          "execution_count": 13
        }
      ]
    },
    {
      "cell_type": "code",
      "metadata": {
        "id": "eibZI0JvQqSQ",
        "colab_type": "code",
        "colab": {},
        "outputId": "5b34edf9-5823-41b4-adf6-81098ae981ab"
      },
      "source": [
        "sqrt(5)"
      ],
      "execution_count": 0,
      "outputs": [
        {
          "output_type": "execute_result",
          "data": {},
          "metadata": {
            "tags": []
          },
          "execution_count": 14
        }
      ]
    },
    {
      "cell_type": "code",
      "metadata": {
        "id": "goPwfylQQqST",
        "colab_type": "code",
        "colab": {},
        "outputId": "fc4ec501-0871-4ea5-e1ca-b7625bdadeb2"
      },
      "source": [
        "sinc(0.5)"
      ],
      "execution_count": 0,
      "outputs": [
        {
          "output_type": "execute_result",
          "data": {},
          "metadata": {
            "tags": []
          },
          "execution_count": 15
        }
      ]
    },
    {
      "cell_type": "markdown",
      "metadata": {
        "id": "eLtwdCQAQqSV",
        "colab_type": "text"
      },
      "source": [
        "##Variables"
      ]
    },
    {
      "cell_type": "markdown",
      "metadata": {
        "id": "MiMKhon7QqSV",
        "colab_type": "text"
      },
      "source": [
        "If we want to be able to store the numbers and results from our calculations then we must define variables using the \"=\" sign:"
      ]
    },
    {
      "cell_type": "code",
      "metadata": {
        "id": "96AxBj1BQqSW",
        "colab_type": "code",
        "colab": {
          "base_uri": "https://localhost:8080/",
          "height": 34
        },
        "outputId": "b59f1e1a-2579-4d7d-f296-1f58867c2b1a"
      },
      "source": [
        "radius=5\n",
        "area=pi*radius**2\n",
        "area"
      ],
      "execution_count": 13,
      "outputs": [
        {
          "output_type": "execute_result",
          "data": {
            "text/plain": [
              "78.53981633974483"
            ]
          },
          "metadata": {
            "tags": []
          },
          "execution_count": 13
        }
      ]
    },
    {
      "cell_type": "markdown",
      "metadata": {
        "id": "KTk6T39KQqSY",
        "colab_type": "text"
      },
      "source": [
        "We see that our variables name is defined on the left of the ```=``` sign and the value its given is defined on the right.  Here we have also used the ```pi``` variable that has been predefined by NumPy.  Variables can then be used in other expressions.  \n",
        "\n",
        "If a predefined variable is again used on the left side of ```=``` then its original value is replaced."
      ]
    },
    {
      "cell_type": "code",
      "metadata": {
        "id": "TCWxJWhhQqSZ",
        "colab_type": "code",
        "colab": {
          "base_uri": "https://localhost:8080/",
          "height": 34
        },
        "outputId": "11b8878a-7943-4a54-c821-1449fd15eccb"
      },
      "source": [
        "x=10\n",
        "x=(x**2+25)/10\n",
        "x"
      ],
      "execution_count": 14,
      "outputs": [
        {
          "output_type": "execute_result",
          "data": {
            "text/plain": [
              "12.5"
            ]
          },
          "metadata": {
            "tags": []
          },
          "execution_count": 14
        }
      ]
    },
    {
      "cell_type": "markdown",
      "metadata": {
        "id": "M12ST9C4QqSc",
        "colab_type": "text"
      },
      "source": [
        "This is different than the mathematical equation $10x=x^{2}+25$  which has the solution $x=5$.  Therefore, it is important to remember that the ```=``` sign in a computer program is **not** equivalent to the mathematical equality. "
      ]
    },
    {
      "cell_type": "markdown",
      "metadata": {
        "id": "x-aLy3zkQqSd",
        "colab_type": "text"
      },
      "source": [
        "What happens if you try to use a variable without first defining it?  Lets try it:"
      ]
    },
    {
      "cell_type": "code",
      "metadata": {
        "id": "91MsxBtHQqSd",
        "colab_type": "code",
        "colab": {
          "base_uri": "https://localhost:8080/",
          "height": 171
        },
        "outputId": "c6101750-80ce-4b08-9f95-ab5d1a383d75"
      },
      "source": [
        "weight"
      ],
      "execution_count": 15,
      "outputs": [
        {
          "output_type": "error",
          "ename": "NameError",
          "evalue": "ignored",
          "traceback": [
            "\u001b[0;31m---------------------------------------------------------------------------\u001b[0m",
            "\u001b[0;31mNameError\u001b[0m                                 Traceback (most recent call last)",
            "\u001b[0;32m<ipython-input-15-2779763037a2>\u001b[0m in \u001b[0;36m<module>\u001b[0;34m()\u001b[0m\n\u001b[0;32m----> 1\u001b[0;31m \u001b[0mweight\u001b[0m\u001b[0;34m\u001b[0m\u001b[0;34m\u001b[0m\u001b[0m\n\u001b[0m",
            "\u001b[0;31mNameError\u001b[0m: name 'weight' is not defined"
          ]
        }
      ]
    },
    {
      "cell_type": "markdown",
      "metadata": {
        "id": "fWn2yAoKQqSg",
        "colab_type": "text"
      },
      "source": [
        "Python gives us an error that \"weight\" is not defined.  In addition, there are several words that are reserved by the Python language and cannot be used as variables:\n",
        "\n",
        "    and, as, assert, break, class, continue, def, del, elif, else, except, \n",
        "    exec, finally, for, from, global, if, import, in, is, lambda, not, or,\n",
        "    pass, print, raise, return, try, while, with, yield\n",
        "    \n",
        "Other than the above reserved words, your variables can be anything that starts with a letter or the underscore character \"$\\_$\" preceded by any combination of alphanumeric characters and \"$\\_$\".  Note that using upper or lower case letters will give you two different variables."
      ]
    },
    {
      "cell_type": "code",
      "metadata": {
        "id": "oIJP2uJTQqSh",
        "colab_type": "code",
        "colab": {
          "base_uri": "https://localhost:8080/",
          "height": 34
        },
        "outputId": "84905f88-c461-4513-d102-d50437f01302"
      },
      "source": [
        "_freq = 8\n",
        "Oscillator_Energy = 10\n",
        "_freq*Oscillator_Energy"
      ],
      "execution_count": 16,
      "outputs": [
        {
          "output_type": "execute_result",
          "data": {
            "text/plain": [
              "80"
            ]
          },
          "metadata": {
            "tags": []
          },
          "execution_count": 16
        }
      ]
    },
    {
      "cell_type": "markdown",
      "metadata": {
        "id": "zN8L-WjMQqSl",
        "colab_type": "text"
      },
      "source": [
        "###Some Rules About Variables"
      ]
    },
    {
      "cell_type": "markdown",
      "metadata": {
        "id": "u_zuV6AXQqSm",
        "colab_type": "text"
      },
      "source": [
        "Although there are many ways to define variables in Python, it is best to try to define your variables in all the same way.  In this class, all of our variables will use only lower case characters. \n"
      ]
    },
    {
      "cell_type": "code",
      "metadata": {
        "id": "KEm_-j-fQqSm",
        "colab_type": "code",
        "colab": {}
      },
      "source": [
        "speed_of_light = 2.9979*10**8\n",
        "spring_constant = sqrt(2/5)"
      ],
      "execution_count": 0,
      "outputs": []
    },
    {
      "cell_type": "markdown",
      "metadata": {
        "id": "CoGkTxthQqSo",
        "colab_type": "text"
      },
      "source": [
        "It is also good practice to use variable names that correspond to the physical quantity that the variable represents."
      ]
    },
    {
      "cell_type": "markdown",
      "metadata": {
        "id": "Os8UZqiqQqSp",
        "colab_type": "text"
      },
      "source": [
        "##Strings"
      ]
    },
    {
      "cell_type": "markdown",
      "metadata": {
        "id": "HIIV0-x5QqSq",
        "colab_type": "text"
      },
      "source": [
        "Often times we want to print some text along with our variables, ask the user for input, or actually use the words and letters themselves as variables (e.g. in DNA analysis).  All of these can be accomplished using **strings**.  We have already seen one string already in this class: "
      ]
    },
    {
      "cell_type": "code",
      "metadata": {
        "id": "3yObzzSBQqSq",
        "colab_type": "code",
        "colab": {
          "base_uri": "https://localhost:8080/",
          "height": 34
        },
        "outputId": "195c1a5e-59e2-4a63-e079-5a8f194c919e"
      },
      "source": [
        "'Hello Class'"
      ],
      "execution_count": 19,
      "outputs": [
        {
          "output_type": "execute_result",
          "data": {
            "text/plain": [
              "'Hello Class'"
            ]
          },
          "metadata": {
            "tags": []
          },
          "execution_count": 19
        }
      ]
    },
    {
      "cell_type": "markdown",
      "metadata": {
        "id": "MIhVXy9RQqSs",
        "colab_type": "text"
      },
      "source": [
        "We can also use double quotes"
      ]
    },
    {
      "cell_type": "code",
      "metadata": {
        "id": "7cpZ6qnyQqSs",
        "colab_type": "code",
        "colab": {
          "base_uri": "https://localhost:8080/",
          "height": 34
        },
        "outputId": "a14bd4fa-b99d-4cb5-8f4f-5926563d8c23"
      },
      "source": [
        "\"Hello Class\""
      ],
      "execution_count": 20,
      "outputs": [
        {
          "output_type": "execute_result",
          "data": {
            "text/plain": [
              "'Hello Class'"
            ]
          },
          "metadata": {
            "tags": []
          },
          "execution_count": 20
        }
      ]
    },
    {
      "cell_type": "markdown",
      "metadata": {
        "id": "bVhm0DB6QqSu",
        "colab_type": "text"
      },
      "source": [
        "If we want to use the quote symbol in the string itself then we need to mix the two types "
      ]
    },
    {
      "cell_type": "code",
      "metadata": {
        "id": "xUTZo2TfQqSv",
        "colab_type": "code",
        "colab": {
          "base_uri": "https://localhost:8080/",
          "height": 34
        },
        "outputId": "28e15d9f-6a3f-4d10-94ec-7333a242e402"
      },
      "source": [
        "\"How was Hwajung's birthday party?\""
      ],
      "execution_count": 21,
      "outputs": [
        {
          "output_type": "execute_result",
          "data": {
            "text/plain": [
              "\"How was Hwajung's birthday party?\""
            ]
          },
          "metadata": {
            "tags": []
          },
          "execution_count": 21
        }
      ]
    },
    {
      "cell_type": "markdown",
      "metadata": {
        "id": "jV2iw5FCQqSw",
        "colab_type": "text"
      },
      "source": [
        "Just like we did with integers and doubles, we can assign a string to a variable, and we can even add two strings together."
      ]
    },
    {
      "cell_type": "code",
      "metadata": {
        "id": "cxYP4tYaQqSx",
        "colab_type": "code",
        "colab": {
          "base_uri": "https://localhost:8080/",
          "height": 34
        },
        "outputId": "2a94431a-0c8d-424c-c66c-b1365aaae393"
      },
      "source": [
        "a = \"I like \" # There is a blank space at the end of this string.\n",
        "b = \"chicken and HOF\"\n",
        "a+b"
      ],
      "execution_count": 22,
      "outputs": [
        {
          "output_type": "execute_result",
          "data": {
            "text/plain": [
              "'I like chicken and HOF'"
            ]
          },
          "metadata": {
            "tags": []
          },
          "execution_count": 22
        }
      ]
    },
    {
      "cell_type": "markdown",
      "metadata": {
        "id": "_jolsrQ3QqS0",
        "colab_type": "text"
      },
      "source": [
        "Notice the blank space at the end of the string in variable \"a\" provides spacing between \"like\" and \"chicken\"."
      ]
    },
    {
      "cell_type": "markdown",
      "metadata": {
        "id": "AdgqwKPVQqS1",
        "colab_type": "text"
      },
      "source": [
        "If we want to print out stuff, including strings and integers or doubles together, then we can use the builtin ```print``` function to accomplish this"
      ]
    },
    {
      "cell_type": "code",
      "metadata": {
        "id": "r6QpmwYvQqS2",
        "colab_type": "code",
        "colab": {
          "base_uri": "https://localhost:8080/",
          "height": 34
        },
        "outputId": "ac55a068-72f2-4b0a-bcca-5814e404f7b2"
      },
      "source": [
        "temp=23\n",
        "text=\"The temperature right now is\"\n",
        "print(text,temp)"
      ],
      "execution_count": 23,
      "outputs": [
        {
          "output_type": "stream",
          "text": [
            "The temperature right now is 23\n"
          ],
          "name": "stdout"
        }
      ]
    },
    {
      "cell_type": "markdown",
      "metadata": {
        "id": "Gw8mw8mEQqS4",
        "colab_type": "text"
      },
      "source": [
        "Notice how the print function automatically puts a space between the the two input arguments.  The ```print``` function automatically takes any number of string, integer, double, or other variables, converts them into strings, and then prints them for the user."
      ]
    },
    {
      "cell_type": "markdown",
      "metadata": {
        "id": "B9ZoRH03QqS4",
        "colab_type": "text"
      },
      "source": [
        "##Lists"
      ]
    },
    {
      "cell_type": "markdown",
      "metadata": {
        "id": "rZ2hfZCaQqS5",
        "colab_type": "text"
      },
      "source": [
        "Often times we will want to group many variables together into one object.  In Python this is accomplished by using a **```list```** datatype variable."
      ]
    },
    {
      "cell_type": "code",
      "metadata": {
        "id": "ptyz9RmSQqS5",
        "colab_type": "code",
        "colab": {}
      },
      "source": [
        "shopping_list=['eggs', 'bread', 'milk', 'bananas']"
      ],
      "execution_count": 0,
      "outputs": []
    },
    {
      "cell_type": "markdown",
      "metadata": {
        "id": "M0ojyrkMQqS8",
        "colab_type": "text"
      },
      "source": [
        "If we want to access a single variable inside of the list, then we need to use the **index** that corresponds to the variable inside of square brackets."
      ]
    },
    {
      "cell_type": "code",
      "metadata": {
        "id": "9fJBvZ6LQqS8",
        "colab_type": "code",
        "colab": {},
        "outputId": "0532fc81-74b1-4563-b43e-5bc3ea9a33fe"
      },
      "source": [
        "shopping_list[2]"
      ],
      "execution_count": 0,
      "outputs": [
        {
          "output_type": "execute_result",
          "data": {},
          "metadata": {
            "tags": []
          },
          "execution_count": 27
        }
      ]
    },
    {
      "cell_type": "markdown",
      "metadata": {
        "id": "40ERju2HQqS-",
        "colab_type": "text"
      },
      "source": [
        "We see that the \"milk\" string can be accessed using the index number $2$.  However, we can see that this variable is actually the third string in the list.  This discrepancy is due to the fact that Python (like C-code) considers the first element in a list, or other multivariable data structures, to be at index $0$."
      ]
    },
    {
      "cell_type": "code",
      "metadata": {
        "id": "mm1U3DfhQqS-",
        "colab_type": "code",
        "colab": {},
        "outputId": "03bc2b5e-783b-460f-b268-d50a5d5a7d7f"
      },
      "source": [
        "shopping_list[0]"
      ],
      "execution_count": 0,
      "outputs": [
        {
          "output_type": "execute_result",
          "data": {},
          "metadata": {
            "tags": []
          },
          "execution_count": 28
        }
      ]
    },
    {
      "cell_type": "markdown",
      "metadata": {
        "id": "SuIbVs_NQqTA",
        "colab_type": "text"
      },
      "source": [
        "This is important to remember, and will take some getting used to before it becomes natural.  If we want to access the elements of the list from back to front, we can use negative indices"
      ]
    },
    {
      "cell_type": "code",
      "metadata": {
        "id": "FDWj193MQqTB",
        "colab_type": "code",
        "colab": {},
        "outputId": "946c0e58-f146-4b81-d195-ca51fe3c50d0"
      },
      "source": [
        "shopping_list[-1]"
      ],
      "execution_count": 0,
      "outputs": [
        {
          "output_type": "execute_result",
          "data": {},
          "metadata": {
            "tags": []
          },
          "execution_count": 29
        }
      ]
    },
    {
      "cell_type": "code",
      "metadata": {
        "id": "IRk3m4dpQqTD",
        "colab_type": "code",
        "colab": {},
        "outputId": "0253d6af-2bb0-4a41-fc54-10ba35456f00"
      },
      "source": [
        "shopping_list[-2]"
      ],
      "execution_count": 0,
      "outputs": [
        {
          "output_type": "execute_result",
          "data": {},
          "metadata": {
            "tags": []
          },
          "execution_count": 30
        }
      ]
    },
    {
      "cell_type": "markdown",
      "metadata": {
        "id": "_ch-E51uQqTF",
        "colab_type": "text"
      },
      "source": [
        "If we are given a list variable and we want to known how many elements are inside of the list, then we can use the ```len``` function that returns an integer giving the length of the list."
      ]
    },
    {
      "cell_type": "code",
      "metadata": {
        "id": "6QJx7_7CQqTF",
        "colab_type": "code",
        "colab": {},
        "outputId": "cb4bc150-4d99-40ec-ba58-0811b06772f6"
      },
      "source": [
        "len(shopping_list)"
      ],
      "execution_count": 0,
      "outputs": [
        {
          "output_type": "execute_result",
          "data": {},
          "metadata": {
            "tags": []
          },
          "execution_count": 31
        }
      ]
    },
    {
      "cell_type": "markdown",
      "metadata": {
        "id": "WUB9UGaIQqTH",
        "colab_type": "text"
      },
      "source": [
        "If we want to change the length of the list by adding or removing elements, then we can use ```append``` and ```remove```, respectively."
      ]
    },
    {
      "cell_type": "code",
      "metadata": {
        "id": "rmQLRQnSQqTH",
        "colab_type": "code",
        "colab": {},
        "outputId": "5378dd66-b42f-4616-b9fb-573bd1a4d495"
      },
      "source": [
        "shopping_list.append('apples')\n",
        "shopping_list"
      ],
      "execution_count": 0,
      "outputs": [
        {
          "output_type": "execute_result",
          "data": {},
          "metadata": {
            "tags": []
          },
          "execution_count": 32
        }
      ]
    },
    {
      "cell_type": "code",
      "metadata": {
        "id": "jo2Y33q8QqTK",
        "colab_type": "code",
        "colab": {},
        "outputId": "1339a0d0-5c16-481a-b166-3f12809a9561"
      },
      "source": [
        "shopping_list.remove('bread')\n",
        "shopping_list"
      ],
      "execution_count": 0,
      "outputs": [
        {
          "output_type": "execute_result",
          "data": {},
          "metadata": {
            "tags": []
          },
          "execution_count": 33
        }
      ]
    },
    {
      "cell_type": "markdown",
      "metadata": {
        "id": "561h_jm-QqTO",
        "colab_type": "text"
      },
      "source": [
        "Note that lists to not have to have the same type of data in each element!  You can mix any data types you want."
      ]
    },
    {
      "cell_type": "code",
      "metadata": {
        "id": "1y-12q0zQqTQ",
        "colab_type": "code",
        "colab": {},
        "outputId": "28e59e5d-fdff-4453-eb3c-bf18179d88ab"
      },
      "source": [
        "various_things=[1, \"hello\", -1.234, [-1, -2, -3]]\n",
        "various_things"
      ],
      "execution_count": 0,
      "outputs": [
        {
          "output_type": "execute_result",
          "data": {},
          "metadata": {
            "tags": []
          },
          "execution_count": 34
        }
      ]
    },
    {
      "cell_type": "markdown",
      "metadata": {
        "id": "tlrvkhgRQqTS",
        "colab_type": "text"
      },
      "source": [
        "All of these elements can be accessed in the usual way"
      ]
    },
    {
      "cell_type": "code",
      "metadata": {
        "id": "EIWWiJ_JQqTS",
        "colab_type": "code",
        "colab": {},
        "outputId": "9feb1aac-970b-49c3-f08f-f5d83a1c48f4"
      },
      "source": [
        "various_things[0]"
      ],
      "execution_count": 0,
      "outputs": [
        {
          "output_type": "execute_result",
          "data": {},
          "metadata": {
            "tags": []
          },
          "execution_count": 35
        }
      ]
    },
    {
      "cell_type": "code",
      "metadata": {
        "id": "MFXwJX_vQqTU",
        "colab_type": "code",
        "colab": {},
        "outputId": "e51a398e-de67-4f58-8d47-f93af9868c70"
      },
      "source": [
        "various_things[-1]"
      ],
      "execution_count": 0,
      "outputs": [
        {
          "output_type": "execute_result",
          "data": {},
          "metadata": {
            "tags": []
          },
          "execution_count": 36
        }
      ]
    },
    {
      "cell_type": "code",
      "metadata": {
        "id": "x7nP0vHLQqTV",
        "colab_type": "code",
        "colab": {},
        "outputId": "760f49d5-e766-414f-918b-f8ee18d0084e"
      },
      "source": [
        "various_things[3][1]"
      ],
      "execution_count": 0,
      "outputs": [
        {
          "output_type": "execute_result",
          "data": {},
          "metadata": {
            "tags": []
          },
          "execution_count": 37
        }
      ]
    },
    {
      "cell_type": "markdown",
      "metadata": {
        "id": "Hw2jHhs7QqTX",
        "colab_type": "text"
      },
      "source": [
        "##Iterating Through Lists and Python Indention Rules"
      ]
    },
    {
      "cell_type": "markdown",
      "metadata": {
        "id": "kIuuIObqQqTY",
        "colab_type": "text"
      },
      "source": [
        "One of the most important reasons for using lists is because one often wants to do the same type of manipulation on each of the elements one at a time.  Going through a list in this fashion is called **iteration** and is accomplished in Python using the ```for``` command: "
      ]
    },
    {
      "cell_type": "code",
      "metadata": {
        "id": "eQBL7s9aQqTY",
        "colab_type": "code",
        "colab": {},
        "outputId": "65c0c94d-9d6c-4328-9eb8-ede2d61f9bc9"
      },
      "source": [
        "items=['four calling birds', 'three french hens', \n",
        "        'two turtle doves', 'a partridge in a pear tree']\n",
        "for thing in items:\n",
        "    print(thing)"
      ],
      "execution_count": 0,
      "outputs": [
        {
          "output_type": "stream",
          "text": [
            "four calling birds\n",
            "three french hens\n",
            "two turtle doves\n",
            "a partridge in a pear tree\n"
          ],
          "name": "stdout"
        }
      ]
    },
    {
      "cell_type": "markdown",
      "metadata": {
        "id": "OKqS9W35QqTb",
        "colab_type": "text"
      },
      "source": [
        "Here, \"thing\" is a variable that takes the value of each item in the list \"items\" and then gets sent to the ```print``` function.  We are free to call this variable anything we want.  "
      ]
    },
    {
      "cell_type": "code",
      "metadata": {
        "id": "71vi8WO4QqTb",
        "colab_type": "code",
        "colab": {},
        "outputId": "0110fcb4-fb8f-4abe-b55f-408c822735b4"
      },
      "source": [
        "for variable in items:\n",
        "    print(variable)"
      ],
      "execution_count": 0,
      "outputs": [
        {
          "output_type": "stream",
          "text": [
            "four calling birds\n",
            "three french hens\n",
            "two turtle doves\n",
            "a partridge in a pear tree\n"
          ],
          "name": "stdout"
        }
      ]
    },
    {
      "cell_type": "markdown",
      "metadata": {
        "id": "_30L1OnpQqTd",
        "colab_type": "text"
      },
      "source": [
        "The next important thing to notice is that after the colon \":\" the print statement is indented.  This indention after a colon is required in the Python programming langage and represents a section of the code called a **block**.  If we did not intent the print function then Python would yell at us. "
      ]
    },
    {
      "cell_type": "code",
      "metadata": {
        "id": "QSx4f6j6QqTe",
        "colab_type": "code",
        "colab": {},
        "outputId": "1aa1c361-b932-4f06-ce09-c77c16d3eb2f"
      },
      "source": [
        "for variable in items:\n",
        "print(variable)"
      ],
      "execution_count": 0,
      "outputs": [
        {
          "output_type": "error",
          "ename": "IndentationError",
          "evalue": "expected an indented block (<ipython-input-40-5c540910ffe6>, line 2)",
          "traceback": [
            "\u001b[0;36m  File \u001b[0;32m\"<ipython-input-40-5c540910ffe6>\"\u001b[0;36m, line \u001b[0;32m2\u001b[0m\n\u001b[0;31m    print(variable)\u001b[0m\n\u001b[0m        ^\u001b[0m\n\u001b[0;31mIndentationError\u001b[0m\u001b[0;31m:\u001b[0m expected an indented block\n"
          ]
        }
      ]
    },
    {
      "cell_type": "markdown",
      "metadata": {
        "id": "TJsRip5cQqTf",
        "colab_type": "text"
      },
      "source": [
        "Blocks are a standard part of any programming language and are used for organization and flow-control in computer code.  Anything that is indented in the above example will be run for each item in the list"
      ]
    },
    {
      "cell_type": "code",
      "metadata": {
        "id": "57alSV9cQqTg",
        "colab_type": "code",
        "colab": {},
        "outputId": "042be26d-fa87-4092-c511-47340a3482bf"
      },
      "source": [
        "for variable in items:\n",
        "    print(\"My true love gave to me\", variable)"
      ],
      "execution_count": 0,
      "outputs": [
        {
          "output_type": "stream",
          "text": [
            "My true love gave to me four calling birds\n",
            "My true love gave to me three french hens\n",
            "My true love gave to me two turtle doves\n",
            "My true love gave to me a partridge in a pear tree\n"
          ],
          "name": "stdout"
        }
      ]
    },
    {
      "cell_type": "markdown",
      "metadata": {
        "id": "gMJTHY8cQqTi",
        "colab_type": "text"
      },
      "source": [
        "##Slicing Lists"
      ]
    },
    {
      "cell_type": "markdown",
      "metadata": {
        "id": "xlKwXEg3QqTj",
        "colab_type": "text"
      },
      "source": [
        "If we want to grab certain elements from a list we can make use of **slicing** to conveniently access the elements.  Slicing can be used on any **sequence** such as lists, strings, and as we will see shortly, arrays. Consider our ```shopping_list``` list:"
      ]
    },
    {
      "cell_type": "code",
      "metadata": {
        "id": "8v-I_IXwQqTj",
        "colab_type": "code",
        "colab": {}
      },
      "source": [
        "shopping_list=['eggs', 'bread', 'milk', 'bananas', 'apples']"
      ],
      "execution_count": 0,
      "outputs": []
    },
    {
      "cell_type": "markdown",
      "metadata": {
        "id": "dwb8Oks5QqTn",
        "colab_type": "text"
      },
      "source": [
        "To get the first element we used a single index"
      ]
    },
    {
      "cell_type": "code",
      "metadata": {
        "id": "MbI1HmzRQqTn",
        "colab_type": "code",
        "colab": {},
        "outputId": "0e1a2b22-d386-4277-afb7-2e0ddb69d8b2"
      },
      "source": [
        "shopping_list[0]"
      ],
      "execution_count": 0,
      "outputs": [
        {
          "output_type": "execute_result",
          "data": {},
          "metadata": {
            "tags": []
          },
          "execution_count": 43
        }
      ]
    },
    {
      "cell_type": "markdown",
      "metadata": {
        "id": "hRqb_jcdQqTo",
        "colab_type": "text"
      },
      "source": [
        "But if we want to get the first three elements in the list we can use: "
      ]
    },
    {
      "cell_type": "code",
      "metadata": {
        "id": "0ofnEAC-QqTo",
        "colab_type": "code",
        "colab": {},
        "outputId": "a4d7c2c2-08ad-4977-a886-9a4c52381b18"
      },
      "source": [
        "shopping_list[0:3]"
      ],
      "execution_count": 0,
      "outputs": [
        {
          "output_type": "execute_result",
          "data": {},
          "metadata": {
            "tags": []
          },
          "execution_count": 44
        }
      ]
    },
    {
      "cell_type": "markdown",
      "metadata": {
        "id": "ITreUqssQqTq",
        "colab_type": "text"
      },
      "source": [
        "We could also grab the last two elements using:"
      ]
    },
    {
      "cell_type": "code",
      "metadata": {
        "id": "9W9Om4_qQqTr",
        "colab_type": "code",
        "colab": {},
        "outputId": "d331f4f9-1433-4f90-dfff-042c568e6fa7"
      },
      "source": [
        "shopping_list[-2:]"
      ],
      "execution_count": 0,
      "outputs": [
        {
          "output_type": "execute_result",
          "data": {},
          "metadata": {
            "tags": []
          },
          "execution_count": 45
        }
      ]
    },
    {
      "cell_type": "markdown",
      "metadata": {
        "id": "BYE6H6LPQqTt",
        "colab_type": "text"
      },
      "source": [
        "Or, we can get even more complex and grab all of the even number elements by using a third argument in the brackets that tells use the step size:"
      ]
    },
    {
      "cell_type": "code",
      "metadata": {
        "id": "c776w2MRQqTt",
        "colab_type": "code",
        "colab": {},
        "outputId": "41a879a9-d5c6-4758-bfe3-eb3ee11eeeda"
      },
      "source": [
        "shopping_list[0::2]"
      ],
      "execution_count": 0,
      "outputs": [
        {
          "output_type": "execute_result",
          "data": {},
          "metadata": {
            "tags": []
          },
          "execution_count": 46
        }
      ]
    },
    {
      "cell_type": "markdown",
      "metadata": {
        "id": "ZWKNs4gvQqTw",
        "colab_type": "text"
      },
      "source": [
        "##Conditional Statements"
      ]
    },
    {
      "cell_type": "markdown",
      "metadata": {
        "id": "RcoJSkwLQqTx",
        "colab_type": "text"
      },
      "source": [
        "We have now seen a collection of data types (integers, doubles/floats, lists, strings) but we have yet to discuss how to compare two different variables.  For example, how do we check if two different integers $a$ and $b$ are equal?  Or how do we know if $a\\ge b$?  This is accomplished using **conditional statements**.  The basic operations in boolean logic are \"equal\" (```==```), \"not equal\" (```!=```), \"greater than\" (```>```), \"greater than or equal\" (```>=```), \"less than\" (```<```), and \"less than or equal\" (```<=```).  All of these conditionals operate on two variables and return a simple boolean ```True``` or ```False``` answer.  For example"
      ]
    },
    {
      "cell_type": "code",
      "metadata": {
        "id": "-LfMoCtZQqTx",
        "colab_type": "code",
        "colab": {},
        "outputId": "49d6dd39-f095-4377-c0b5-691960667797"
      },
      "source": [
        "a=5 ; b=8\n",
        "a>b"
      ],
      "execution_count": 0,
      "outputs": [
        {
          "output_type": "execute_result",
          "data": {},
          "metadata": {
            "tags": []
          },
          "execution_count": 47
        }
      ]
    },
    {
      "cell_type": "code",
      "metadata": {
        "id": "RY1-C13SQqT1",
        "colab_type": "code",
        "colab": {},
        "outputId": "3c2c10c5-edc2-4942-ed55-9f4ab5296d95"
      },
      "source": [
        "c=0\n",
        "c<=0,c>=0"
      ],
      "execution_count": 0,
      "outputs": [
        {
          "output_type": "execute_result",
          "data": {},
          "metadata": {
            "tags": []
          },
          "execution_count": 48
        }
      ]
    },
    {
      "cell_type": "code",
      "metadata": {
        "id": "q_g01C04QqT2",
        "colab_type": "code",
        "colab": {},
        "outputId": "e249e35a-72b3-4631-e6bb-9bccbeca8059"
      },
      "source": [
        "a=5;b=6\n",
        "a==b,a!=b"
      ],
      "execution_count": 0,
      "outputs": [
        {
          "output_type": "execute_result",
          "data": {},
          "metadata": {
            "tags": []
          },
          "execution_count": 49
        }
      ]
    },
    {
      "cell_type": "markdown",
      "metadata": {
        "id": "fx6OkQfTQqT4",
        "colab_type": "text"
      },
      "source": [
        "It is important to point out that in Python ```1``` and ```0``` are the same as ```True``` and ```False```, respectively."
      ]
    },
    {
      "cell_type": "code",
      "metadata": {
        "id": "w5w-6iqyQqT4",
        "colab_type": "code",
        "colab": {},
        "outputId": "25674892-92c5-4a75-cd8a-58d93ee28d2f"
      },
      "source": [
        "True==1,False==0"
      ],
      "execution_count": 0,
      "outputs": [
        {
          "output_type": "execute_result",
          "data": {},
          "metadata": {
            "tags": []
          },
          "execution_count": 50
        }
      ]
    },
    {
      "cell_type": "markdown",
      "metadata": {
        "id": "Fv09LbBRQqT5",
        "colab_type": "text"
      },
      "source": [
        "We can also combine multiple conditional statements"
      ]
    },
    {
      "cell_type": "code",
      "metadata": {
        "id": "VinG8Nt3QqT5",
        "colab_type": "code",
        "colab": {},
        "outputId": "7003019f-6a37-43f0-8a1a-add0fe7fc7bd"
      },
      "source": [
        "a=-1;b=4;c=10;d=11\n",
        "a<b<c!=d"
      ],
      "execution_count": 0,
      "outputs": [
        {
          "output_type": "execute_result",
          "data": {},
          "metadata": {
            "tags": []
          },
          "execution_count": 51
        }
      ]
    },
    {
      "cell_type": "markdown",
      "metadata": {
        "id": "xb0VukeUQqT7",
        "colab_type": "text"
      },
      "source": [
        "These operations can also be used on lists and strings:"
      ]
    },
    {
      "cell_type": "code",
      "metadata": {
        "id": "WN91nK8pQqT-",
        "colab_type": "code",
        "colab": {},
        "outputId": "3f532f82-8d73-41d7-a1d0-d48939b062b1"
      },
      "source": [
        "[4,5,6]>=[4,5,7]"
      ],
      "execution_count": 0,
      "outputs": [
        {
          "output_type": "execute_result",
          "data": {},
          "metadata": {
            "tags": []
          },
          "execution_count": 52
        }
      ]
    },
    {
      "cell_type": "code",
      "metadata": {
        "id": "wkjNbEpMQqUA",
        "colab_type": "code",
        "colab": {},
        "outputId": "4657ca2d-1452-49c1-8f76-32fee75f175f"
      },
      "source": [
        "[4,5,6]<=[4,5,7]"
      ],
      "execution_count": 0,
      "outputs": [
        {
          "output_type": "execute_result",
          "data": {},
          "metadata": {
            "tags": []
          },
          "execution_count": 53
        }
      ]
    },
    {
      "cell_type": "code",
      "metadata": {
        "id": "PCKU5BjsQqUB",
        "colab_type": "code",
        "colab": {},
        "outputId": "dd51b7ea-59bc-4821-fa4b-687798787f9e"
      },
      "source": [
        "'today'=='Today'"
      ],
      "execution_count": 0,
      "outputs": [
        {
          "output_type": "execute_result",
          "data": {},
          "metadata": {
            "tags": []
          },
          "execution_count": 54
        }
      ]
    },
    {
      "cell_type": "markdown",
      "metadata": {
        "id": "zXOjhrpdQqUD",
        "colab_type": "text"
      },
      "source": [
        "###Conditional Statements and Flow Control"
      ]
    },
    {
      "cell_type": "markdown",
      "metadata": {
        "id": "eLAvXhizQqUD",
        "colab_type": "text"
      },
      "source": [
        "The main purpose of these conditional statements is to control the flow of a Python program.  The result of a conditional statement can be used to control a program using ```if/else``` and ```while``` statements."
      ]
    },
    {
      "cell_type": "code",
      "metadata": {
        "id": "ASq0N5aMQqUF",
        "colab_type": "code",
        "colab": {},
        "outputId": "36a67002-b491-4ea9-82d6-d92b6d723f8b"
      },
      "source": [
        "today='friday'\n",
        "if today=='friday':\n",
        "    print('We have class today :(') # this is a code block\n",
        "else:\n",
        "    print('No class today :)') # this is also a code block"
      ],
      "execution_count": 0,
      "outputs": [
        {
          "output_type": "stream",
          "text": [
            "We have class today :(\n"
          ],
          "name": "stdout"
        }
      ]
    },
    {
      "cell_type": "markdown",
      "metadata": {
        "id": "Qfx9uif5QqUG",
        "colab_type": "text"
      },
      "source": [
        "The code block below the ```if``` statement is run only if the conditional ```today=='friday'``` returns ```True```.  If the conditional is ```False``` then the code block inside the ```else``` statement is run.  We can also check multiple conditions by using the ``elif`` statement after ```if```:"
      ]
    },
    {
      "cell_type": "code",
      "metadata": {
        "id": "MQ02QGKFQqUG",
        "colab_type": "code",
        "colab": {},
        "outputId": "64f61d9a-af27-4daf-fba1-12a02a91f52f"
      },
      "source": [
        "today='thursday'\n",
        "if today=='friday':\n",
        "    print('We have class today :(')\n",
        "elif today=='thursday':\n",
        "    print('Our assignment is due today :(')\n",
        "else:\n",
        "    print('No class today :)')"
      ],
      "execution_count": 0,
      "outputs": [
        {
          "output_type": "stream",
          "text": [
            "Our assignment is due today :(\n"
          ],
          "name": "stdout"
        }
      ]
    },
    {
      "cell_type": "markdown",
      "metadata": {
        "id": "oh3xCJ0zQqUI",
        "colab_type": "text"
      },
      "source": [
        "The other important flow control expression is the **```while``` loop** that executes a block of code repeatedly until the conditional statement at the start of the loop is ```False```."
      ]
    },
    {
      "cell_type": "code",
      "metadata": {
        "id": "dkf8YqJoQqUJ",
        "colab_type": "code",
        "colab": {},
        "outputId": "6fa6d374-10ed-429a-a53c-3cb67d92f0b1"
      },
      "source": [
        "n=0\n",
        "while n<=10: #evaluate code block until n>10\n",
        "    print('The current value of n is:',n)\n",
        "    n=n+1 #increase the value of n by 1"
      ],
      "execution_count": 0,
      "outputs": [
        {
          "output_type": "stream",
          "text": [
            "The current value of n is: 0\n",
            "The current value of n is: 1\n",
            "The current value of n is: 2\n",
            "The current value of n is: 3\n",
            "The current value of n is: 4\n",
            "The current value of n is: 5\n",
            "The current value of n is: 6\n",
            "The current value of n is: 7\n",
            "The current value of n is: 8\n",
            "The current value of n is: 9\n",
            "The current value of n is: 10\n"
          ],
          "name": "stdout"
        }
      ]
    },
    {
      "cell_type": "markdown",
      "metadata": {
        "id": "ituniAjrQqUL",
        "colab_type": "text"
      },
      "source": [
        "When using a ```while``` loop you must make sure the conditional is not ```True``` forever.  Otherwise your program will be in an **infinite loop** that never ends."
      ]
    },
    {
      "cell_type": "markdown",
      "metadata": {
        "id": "ezKgXCtFQqUL",
        "colab_type": "text"
      },
      "source": [
        "###Example: Even and Odd Numbers"
      ]
    },
    {
      "cell_type": "markdown",
      "metadata": {
        "id": "D5r2gGUUQqUM",
        "colab_type": "text"
      },
      "source": [
        "Let us determine whether a given number between [1,10] is an even or odd number."
      ]
    },
    {
      "cell_type": "code",
      "metadata": {
        "id": "e0SoykpaQqUM",
        "colab_type": "code",
        "colab": {},
        "outputId": "c925155c-52bb-4536-d5e8-165732cc1da5"
      },
      "source": [
        "for n in [1,2,3,4,5,6,7,8,9,10]:\n",
        "    if remainder(n,2)==0:\n",
        "        print(n,'is even')\n",
        "    else:\n",
        "        print(n,'is odd')"
      ],
      "execution_count": 0,
      "outputs": [
        {
          "output_type": "stream",
          "text": [
            "1 is odd\n",
            "2 is even\n",
            "3 is odd\n",
            "4 is even\n",
            "5 is odd\n",
            "6 is even\n",
            "7 is odd\n",
            "8 is even\n",
            "9 is odd\n",
            "10 is even\n"
          ],
          "name": "stdout"
        }
      ]
    },
    {
      "cell_type": "markdown",
      "metadata": {
        "id": "mnNvUNrjQqUP",
        "colab_type": "text"
      },
      "source": [
        "Typing lists with a long sequence of integers is quite annoying.  Fortunately, Python has a builtin function called ```range``` that makes creating sequences of integers very easy.  For instance, the above example becomes"
      ]
    },
    {
      "cell_type": "code",
      "metadata": {
        "id": "8j1p9OYxQqUP",
        "colab_type": "code",
        "colab": {},
        "outputId": "ecfa630d-78ef-4fc4-dd22-494c7b6f95a8"
      },
      "source": [
        "for n in range(1,11):\n",
        "    if remainder(n,2)==0:\n",
        "        print(n,'is even')\n",
        "    else:\n",
        "        print(n,'is odd')"
      ],
      "execution_count": 0,
      "outputs": [
        {
          "output_type": "stream",
          "text": [
            "1 is odd\n",
            "2 is even\n",
            "3 is odd\n",
            "4 is even\n",
            "5 is odd\n",
            "6 is even\n",
            "7 is odd\n",
            "8 is even\n",
            "9 is odd\n",
            "10 is even\n"
          ],
          "name": "stdout"
        }
      ]
    },
    {
      "cell_type": "markdown",
      "metadata": {
        "id": "RL2j19SOQqUQ",
        "colab_type": "text"
      },
      "source": [
        "Notice how the range function only counts to $10$ even though the range goes to $11$.  The endpoint is *never* part of the generated sequence when using ```range```.  If we wanted the ```range``` function to start at zero instead of one we could simply write ```range(11)```.  We can also make sequences that go in arbitrary steps:"
      ]
    },
    {
      "cell_type": "code",
      "metadata": {
        "id": "e_uXmwJUQqUQ",
        "colab_type": "code",
        "colab": {},
        "outputId": "050e7496-c6d9-4293-957e-d7559920f6c9"
      },
      "source": [
        "for n in range(0,11,2):\n",
        "    print(n)"
      ],
      "execution_count": 0,
      "outputs": [
        {
          "output_type": "stream",
          "text": [
            "0\n",
            "2\n",
            "4\n",
            "6\n",
            "8\n",
            "10\n"
          ],
          "name": "stdout"
        }
      ]
    },
    {
      "cell_type": "markdown",
      "metadata": {
        "id": "ERz8_E7nQqUS",
        "colab_type": "text"
      },
      "source": [
        "The ```range``` function does not return a list of integers but is something called a **generator**.  In general, the ```range``` function should only be used in combination with the ```for``` command."
      ]
    },
    {
      "cell_type": "markdown",
      "metadata": {
        "id": "6xtsNuFdQqUS",
        "colab_type": "text"
      },
      "source": [
        "###Example: Fibonacci Sequence"
      ]
    },
    {
      "cell_type": "markdown",
      "metadata": {
        "id": "tRDstIsvQqUT",
        "colab_type": "text"
      },
      "source": [
        "Let us follow the Python documentation and calculate the first ten numbers in the Fibonacci sequence:"
      ]
    },
    {
      "cell_type": "code",
      "metadata": {
        "id": "pIMF6awWQqUT",
        "colab_type": "code",
        "colab": {},
        "outputId": "00c7d326-4e48-46ca-b915-1be80b09b1bd"
      },
      "source": [
        "n = 10\n",
        "fib = [0,1]\n",
        "for i in range(2,n):\n",
        "    fib.append(fib[i-1]+fib[i-2])\n",
        "print(fib)"
      ],
      "execution_count": 0,
      "outputs": [
        {
          "output_type": "stream",
          "text": [
            "[0, 1, 1, 2, 3, 5, 8, 13, 21, 34]\n"
          ],
          "name": "stdout"
        }
      ]
    },
    {
      "cell_type": "markdown",
      "metadata": {
        "id": "YJKSQoZQQqUW",
        "colab_type": "text"
      },
      "source": [
        "We can also write this using a ```while``` loop if we wanted to."
      ]
    },
    {
      "cell_type": "code",
      "metadata": {
        "id": "JQ-c1NgnQqUW",
        "colab_type": "code",
        "colab": {},
        "outputId": "a9e664d9-9231-477c-e994-9156c185d396"
      },
      "source": [
        "n = 2\n",
        "fib = [0,1]\n",
        "while n<10:\n",
        "    fib.append(fib[n-1]+fib[n-2])\n",
        "    n = n+1\n",
        "print(fib)"
      ],
      "execution_count": 0,
      "outputs": [
        {
          "output_type": "stream",
          "text": [
            "[0, 1, 1, 2, 3, 5, 8, 13, 21, 34]\n"
          ],
          "name": "stdout"
        }
      ]
    },
    {
      "cell_type": "markdown",
      "metadata": {
        "id": "-IZVQ2F6QqUY",
        "colab_type": "text"
      },
      "source": [
        "##Writing Scripts and Functions"
      ]
    },
    {
      "cell_type": "markdown",
      "metadata": {
        "id": "xctSL23cQqUY",
        "colab_type": "text"
      },
      "source": [
        "Up until now we have been running little code snippets but have not really been doing any real programming.  Recall that Python is a scripting language.  Therefore, most of the time, we want to write **scripts** that contain a collection of constants, variables, data structures, functions, comments, etc., that perform various complicated tasks. "
      ]
    },
    {
      "cell_type": "markdown",
      "metadata": {
        "id": "OhXoFPRGQqUY",
        "colab_type": "text"
      },
      "source": [
        "### Scripts"
      ]
    },
    {
      "cell_type": "markdown",
      "metadata": {
        "id": "nPOV9ec1QqUY",
        "colab_type": "text"
      },
      "source": [
        "A Python script file is nothing but a text file containing Python code that ends with a **.py** extension.  Python scripts are also called Python **programs**.  If we open up any editor, then we are given a blank window that we can enter our Python commands in."
      ]
    },
    {
      "cell_type": "markdown",
      "metadata": {
        "id": "fYP3xmYKQqUZ",
        "colab_type": "text"
      },
      "source": [
        "Before we begin to write our scripts, lets first discuss the best format for writing your scripts."
      ]
    },
    {
      "cell_type": "code",
      "metadata": {
        "id": "vWlAMk1gQqUZ",
        "colab_type": "code",
        "colab": {},
        "outputId": "503ee141-388a-4a36-b059-91578c84af96"
      },
      "source": [
        "# This is an example script for the P461 class\n",
        "# Here we will calculate the series expansion\n",
        "# for sin(x) up to an arbitrary order N.\n",
        "#\n",
        "# Paul Nation, 02/03/2014\n",
        "\n",
        "from numpy import *\n",
        "from scipy.misc import factorial\n",
        "\n",
        "N = 5        # The order of the series expansion\n",
        "x = pi/4.    # The point at which we want to evaluate sine\n",
        "\n",
        "ans = 0.0\n",
        "for k in range(N+1):\n",
        "    ans = ans+(-1)**k*x**(1+2*k)/factorial(1+2*k)\n",
        "print(\"Series approximation:\",ans)\n",
        "print(\"Error:\",sin(x)-ans)"
      ],
      "execution_count": 0,
      "outputs": [
        {
          "output_type": "stream",
          "text": [
            "Series approximation: 0.70710678118\n",
            "Error: 6.92801371827e-12\n"
          ],
          "name": "stdout"
        }
      ]
    },
    {
      "cell_type": "markdown",
      "metadata": {
        "id": "3kFdTUgzQqUa",
        "colab_type": "text"
      },
      "source": [
        "We can see that the script has four main parts: First, we have a section of **comments** that describe what the script does and when it was created.  In python all comments start with the **```#```** symbol.  Everything after this symbol is ignored by the computer.  Second, we have the section of the scripts that load the necessary functions that we need from other packages.  Third is a section where we define all of the constants that are going to be used in the script. You should also add comments here that tell us what the constants are.  Finally, your main body of code goes after these sections."
      ]
    },
    {
      "cell_type": "markdown",
      "metadata": {
        "id": "8Ebi-t4KQqUb",
        "colab_type": "text"
      },
      "source": [
        "###Functions"
      ]
    },
    {
      "cell_type": "markdown",
      "metadata": {
        "id": "17X-6znMQqUb",
        "colab_type": "text"
      },
      "source": [
        "We are finally in a position to look at one of the most important parts of any programming language **functions**.  Functions are blocks of code that accomplish a specific task. Functions usually take \"input arguments\", perform operations on these inputs, and then \"return\" one or more results. Functions can be used over and over again, and can also be \"called\" from the inside of other functions.  Let us rewrite our script for $sin(x)$ using a function and then describe each part."
      ]
    },
    {
      "cell_type": "code",
      "metadata": {
        "id": "qmlqsUR_QqUb",
        "colab_type": "code",
        "colab": {},
        "outputId": "f93c7422-0d1f-43b4-a303-8e05cae4155d"
      },
      "source": [
        "from numpy import *\n",
        "from scipy.misc import factorial\n",
        "\n",
        "N=5        # The order of the series expansion\n",
        "x=pi/4.    # The point at which we want to evaluate sine\n",
        "\n",
        "def sine_series(x,N):\n",
        "    ans=0.0\n",
        "    for k in range(N+1):\n",
        "        ans=ans+(-1)**k*x**(1+2*k)/factorial(1+2*k)\n",
        "    return ans\n",
        "\n",
        "result = sine_series(x,N)\n",
        "print(\"Series approximation:\",result)\n",
        "print(\"Error:\",sin(x)-result)"
      ],
      "execution_count": 0,
      "outputs": [
        {
          "output_type": "stream",
          "text": [
            "Series approximation: 0.70710678118\n",
            "Error: 6.92801371827e-12\n"
          ],
          "name": "stdout"
        }
      ]
    },
    {
      "cell_type": "markdown",
      "metadata": {
        "id": "fgjqa8AXQqUd",
        "colab_type": "text"
      },
      "source": [
        "We see see that a function is created using the keyword ```def``` which is short \"define\", then the name of the function followed by the input arguments in parentheses.  After the block of code called by the function, the ```return``` keyword specifies what variable(s) and/or data structure(s) are given as the output.  So a general functions call is"
      ]
    },
    {
      "cell_type": "code",
      "metadata": {
        "id": "MYO0_-p5QqUe",
        "colab_type": "code",
        "colab": {}
      },
      "source": [
        "def function_name(arg1,arg2):\n",
        "    \"Block of code to run\"\n",
        "    \"...\"\n",
        "    return result"
      ],
      "execution_count": 0,
      "outputs": []
    },
    {
      "cell_type": "markdown",
      "metadata": {
        "id": "owgVmKBKQqUf",
        "colab_type": "text"
      },
      "source": [
        "Again, everything after the colon (:) that is inside the function must be indented.  The beauty of using functions is that we can use the same code over and over, just by changing the constants near the top of our Python script.\n",
        "\n",
        "Variables that are defined inside of a function are called **local variables** and only defined for the block of code inside of the function.  In our previous example, ```k``` was a local variable.  The input arguments and return arguments are *not* local variables.  Once a function is done running, the local variables are erased from memory.  Therefore, if you want get something out of a function, your must return the value when your done."
      ]
    },
    {
      "cell_type": "markdown",
      "metadata": {
        "id": "nnH94bghQqUf",
        "colab_type": "text"
      },
      "source": [
        "If we want to return more than one thing at the end of the function then we just need to separate the different items by a comma."
      ]
    },
    {
      "cell_type": "code",
      "metadata": {
        "id": "0XtEaq_lQqUf",
        "colab_type": "code",
        "colab": {},
        "outputId": "bb1cadc2-c069-41d4-8d62-0014f42a75e7"
      },
      "source": [
        "from numpy.random import random\n",
        "from pylab import *\n",
        "\n",
        "N=100 # Number of points to generate\n",
        "\n",
        "def random_coordinates(N):\n",
        "    x_coords=[]\n",
        "    y_coords=[]\n",
        "    for n in range(N):\n",
        "        xnew,ynew=random(2)\n",
        "        x_coords.append(xnew)\n",
        "        y_coords.append(ynew)\n",
        "    return x_coords,y_coords\n",
        "\n",
        "xc,yc=random_coordinates(N)\n",
        "plot(xc,yc,'ro',markersize=8)\n",
        "show()"
      ],
      "execution_count": 0,
      "outputs": [
        {
          "output_type": "display_data",
          "data": {},
          "metadata": {
            "tags": []
          }
        }
      ]
    },
    {
      "cell_type": "code",
      "metadata": {
        "id": "mukVYjMAQqUg",
        "colab_type": "code",
        "colab": {},
        "outputId": "803cdcf5-b323-4aa5-c00b-76efc0310ff8"
      },
      "source": [
        "from numpy.random import random\n",
        "from pylab import *\n",
        "\n",
        "N = 20 # Number of points to generate\n",
        "\n",
        "def random_coordinates(N):\n",
        "    x_coords = []\n",
        "    y_coords = []\n",
        "    for n in range(N):\n",
        "        xnew,ynew = random(2)\n",
        "        x_coords.append(xnew)\n",
        "        y_coords.append(ynew)\n",
        "    return x_coords,y_coords\n",
        "\n",
        "def dist2d(x1,y1,x2,y2):\n",
        "    return sqrt((x1-x2)**2+(y1-y2)**2)\n",
        "\n",
        "def max_dist(xc,yc):\n",
        "    max_dist = 0.0\n",
        "    num_points = len(xc)\n",
        "    for ii in range(num_points):\n",
        "        for jj in range(num_points):\n",
        "            dist = dist2d(xc[ii],yc[ii],xc[jj],yc[jj])\n",
        "            if dist > max_dist:\n",
        "                max_dist = dist\n",
        "                xvals = [xc[ii],xc[jj]]\n",
        "                yvals = [yc[ii],yc[jj]]\n",
        "    return max_dist, xvals, yvals\n",
        "\n",
        "xc,yc = random_coordinates(N)\n",
        "max_dist,pnt1,pnt2 = max_dist(xc,yc)\n",
        "plot(xc,yc,'ro',markersize=8)\n",
        "plot(pnt1,pnt2,'b-',lw=2)\n",
        "show()"
      ],
      "execution_count": 0,
      "outputs": [
        {
          "output_type": "display_data",
          "data": {},
          "metadata": {
            "tags": []
          }
        }
      ]
    },
    {
      "cell_type": "markdown",
      "metadata": {
        "id": "tu_qGVVMQqUh",
        "colab_type": "text"
      },
      "source": [
        "Obvious this last example is more complex, and in particular, it is hard to understand what the functions.  Even for your own functions, you may often forget what your functions do unless you provide some documentation and comments in your scripts.  Here we will see how to properly document a function in Python by looking at the ```max_dist``` function:"
      ]
    },
    {
      "cell_type": "code",
      "metadata": {
        "id": "RmAthMMoQqUh",
        "colab_type": "code",
        "colab": {}
      },
      "source": [
        "def max_dist(xc,yc):\n",
        "    \"\"\"\n",
        "    Finds the maximum distance between any two points\n",
        "    in a collection of 2D points.  The points corresponding \n",
        "    to this distance are also returned.\n",
        "    \n",
        "    Parameters\n",
        "    ----------\n",
        "    xc : list\n",
        "        List of x-coordinates\n",
        "    yc : list\n",
        "        List of y-coordinates\n",
        "    \n",
        "    Returns\n",
        "    -------\n",
        "    max_dist : float\n",
        "        Maximum distance\n",
        "    xvals : list\n",
        "        x-coodinates of two points\n",
        "    yvals : list\n",
        "        y-coordinates of two points\n",
        "    \n",
        "    \"\"\"\n",
        "    max_dist=0.0       #initialize max_dist\n",
        "    num_points=len(xc) #number of points in collection\n",
        "    for ii in range(num_points):\n",
        "        for jj in range(num_points):\n",
        "            dist=dist2d(xc[ii],yc[ii],xc[jj],yc[jj])\n",
        "            if dist>max_dist:\n",
        "                max_dist=dist\n",
        "                xvals=[xc[ii],xc[jj]]\n",
        "                yvals=[yc[ii],yc[jj]]\n",
        "    return max_dist, xvals, yvals"
      ],
      "execution_count": 0,
      "outputs": []
    },
    {
      "cell_type": "markdown",
      "metadata": {
        "id": "BoQER-xRQqUj",
        "colab_type": "text"
      },
      "source": [
        "Everything inbetween the ```\"\"\"...\"\"\"``` is called a **docstring** and it gives a tells someone who is not familiar with a partiular functions a detailed explaination as to what the function does, what parameters it takes as inputs, and what values it returns.  It is also good practice to put some comments next to your local variables so the user knows what each of these is for. Although it seems like a lot of work at first, writing docstrings will make you a much better programmer in the future."
      ]
    },
    {
      "cell_type": "markdown",
      "metadata": {
        "id": "OjBuKlaeQqUj",
        "colab_type": "text"
      },
      "source": [
        "<h1 align=\"center\">End of Tutorial</h1> \n",
        "<h3 align=\"center\"><a href=\"http://qutip.org/tutorials.html\">Return to QuTiP tutorials page</a></h3> "
      ]
    },
    {
      "cell_type": "code",
      "metadata": {
        "id": "IvHaDxO1QqUk",
        "colab_type": "code",
        "colab": {},
        "outputId": "e1c1067e-9dd8-4f8e-b81c-428389c59ab7"
      },
      "source": [
        "from IPython.core.display import HTML\n",
        "def css_styling():\n",
        "    styles = open(\"styles/style.css\", \"r\").read()\n",
        "    return HTML(styles)\n",
        "css_styling()"
      ],
      "execution_count": 0,
      "outputs": [
        {
          "output_type": "execute_result",
          "data": {},
          "metadata": {
            "tags": []
          },
          "execution_count": 1
        }
      ]
    },
    {
      "cell_type": "code",
      "metadata": {
        "id": "58yYQorSQqUm",
        "colab_type": "code",
        "colab": {}
      },
      "source": [
        ""
      ],
      "execution_count": 0,
      "outputs": []
    }
  ]
}